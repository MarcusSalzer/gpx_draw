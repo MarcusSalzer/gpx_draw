{
 "cells": [
  {
   "cell_type": "code",
   "execution_count": null,
   "metadata": {},
   "outputs": [],
   "source": []
  },
  {
   "cell_type": "code",
   "execution_count": null,
   "metadata": {},
   "outputs": [],
   "source": [
    "import gpxpy\n",
    "import numpy as np\n",
    "import pandas as pd\n",
    "import plotly.express as px\n",
    "import plotly.graph_objects as go\n",
    "import functions as fun\n",
    "\n",
    "from importlib import reload"
   ]
  },
  {
   "cell_type": "code",
   "execution_count": null,
   "metadata": {},
   "outputs": [],
   "source": [
    "# class activity:\n",
    "#     def __init__(\n",
    "#         self,\n",
    "#         name,\n",
    "#         typ,\n",
    "#         points,\n",
    "#     ):\n",
    "#         self.name = name\n",
    "#         self.typ = typ\n",
    "#         self.points = points\n",
    "\n",
    "\n",
    "activities = fun.load_all_gpx(\"data/activities\", sample=0)\n",
    "print(\"activities, list of \", type(activities[0]))"
   ]
  },
  {
   "cell_type": "code",
   "execution_count": null,
   "metadata": {},
   "outputs": [],
   "source": [
    "fig = go.Figure()\n",
    "\n",
    "# Set layout with equal aspect ratio\n",
    "fig.update_layout(\n",
    "    width=600,\n",
    "    height=400,\n",
    "    yaxis=dict(scaleanchor=\"x\", scaleratio=1, showgrid=False),\n",
    "    xaxis=dict(showgrid=False),\n",
    "    template=\"plotly_dark\",\n",
    ")\n",
    "\n",
    "for gpx in activities:\n",
    "    points = gpx.tracks[0].segments[0].points\n",
    "    lat = [p.latitude for p in points]\n",
    "    lon = [p.longitude for p in points]\n",
    "    elev = [p.elevation for p in points]\n",
    "    time = [p.time for p in points]\n",
    "    fig.add_trace(go.Scatter(x=lon, y=lat))\n",
    "\n",
    "fig.show()"
   ]
  },
  {
   "cell_type": "code",
   "execution_count": null,
   "metadata": {},
   "outputs": [],
   "source": [
    "reload(fun)\n",
    "fig = fun.plot_one_gpx(activities[0])\n",
    "\n",
    "fig.show()"
   ]
  }
 ],
 "metadata": {
  "kernelspec": {
   "display_name": "timeseries",
   "language": "python",
   "name": "python3"
  },
  "language_info": {
   "codemirror_mode": {
    "name": "ipython",
    "version": 3
   },
   "file_extension": ".py",
   "mimetype": "text/x-python",
   "name": "python",
   "nbconvert_exporter": "python",
   "pygments_lexer": "ipython3",
   "version": "3.11.5"
  }
 },
 "nbformat": 4,
 "nbformat_minor": 2
}
