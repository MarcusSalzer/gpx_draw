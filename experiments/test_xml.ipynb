{
 "cells": [
  {
   "cell_type": "code",
   "execution_count": null,
   "metadata": {},
   "outputs": [],
   "source": []
  },
  {
   "cell_type": "code",
   "execution_count": null,
   "metadata": {},
   "outputs": [],
   "source": [
    "from lxml import etree\n",
    "import matplotlib.pyplot as plt\n",
    "import numpy as np\n",
    "import pandas as pd\n",
    "from datetime import datetime"
   ]
  },
  {
   "cell_type": "code",
   "execution_count": null,
   "metadata": {},
   "outputs": [],
   "source": [
    "datetime.now().strftime(\"%Y-%m-%d %H:%M:%S\")"
   ]
  },
  {
   "cell_type": "code",
   "execution_count": null,
   "metadata": {},
   "outputs": [],
   "source": [
    "file_path = \"data/dummy.xml\"\n",
    "\n",
    "tree = etree.parse(file_path)\n",
    "root = tree.getroot()\n",
    "\n",
    "print(\"root:\", root.tag)\n",
    "\n",
    "for e in root:\n",
    "    print(\"-\", e.tag, e.find(\"name\").text)\n",
    "\n",
    "pd.read_xml(file_path)"
   ]
  },
  {
   "cell_type": "code",
   "execution_count": null,
   "metadata": {},
   "outputs": [],
   "source": [
    "file_path = \"data/activity_14637519229.gpx\"\n",
    "\n",
    "tree = etree.parse(file_path)\n",
    "root = tree.getroot()\n",
    "namespace_uri = tree.getroot().nsmap.get(None)\n",
    "ns = {\"ns\": namespace_uri}\n",
    "\n",
    "\n",
    "print(\"root:\", root.tag)\n",
    "print(\"ns uri\", namespace_uri)\n",
    "\n",
    "metadata = tree.find(\".//ns:metadata\", namespaces=ns)\n",
    "\n",
    "for e in metadata:\n",
    "    print(e.tag)"
   ]
  },
  {
   "cell_type": "code",
   "execution_count": null,
   "metadata": {},
   "outputs": [],
   "source": [
    "pd.read_xml(file_path)"
   ]
  }
 ],
 "metadata": {
  "kernelspec": {
   "display_name": "timeseries",
   "language": "python",
   "name": "python3"
  },
  "language_info": {
   "codemirror_mode": {
    "name": "ipython",
    "version": 3
   },
   "file_extension": ".py",
   "mimetype": "text/x-python",
   "name": "python",
   "nbconvert_exporter": "python",
   "pygments_lexer": "ipython3",
   "version": "3.11.5"
  }
 },
 "nbformat": 4,
 "nbformat_minor": 2
}
