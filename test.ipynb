{
 "cells": [
  {
   "cell_type": "code",
   "execution_count": 40,
   "metadata": {},
   "outputs": [],
   "source": [
    "from lxml import etree\n",
    "import matplotlib.pyplot as plt\n",
    "import numpy as np\n",
    "import pandas as pd"
   ]
  },
  {
   "cell_type": "code",
   "execution_count": 53,
   "metadata": {},
   "outputs": [
    {
     "name": "stdout",
     "output_type": "stream",
     "text": [
      "root: root\n",
      "- person John\n",
      "- person Alice\n",
      "- person Bob\n"
     ]
    }
   ],
   "source": [
    "file_path = \"data/dummy.xml\"\n",
    "\n",
    "tree = etree.parse(file_path)\n",
    "root = tree.getroot()\n",
    "\n",
    "print(\"root:\", root.tag)\n",
    "\n",
    "for e in root.findall(\"person\"):\n",
    "    print(\"-\", e.tag, e.find(\"name\").text)\n"
   ]
  },
  {
   "cell_type": "code",
   "execution_count": 55,
   "metadata": {},
   "outputs": [
    {
     "name": "stdout",
     "output_type": "stream",
     "text": [
      "root: {http://www.topografix.com/GPX/1/1}gpx\n"
     ]
    }
   ],
   "source": [
    "file_path = \"data/activity_14637519229.gpx\"\n",
    "\n",
    "tree = etree.parse(file_path)\n",
    "root = tree.getroot()\n",
    "\n",
    "print(\"root:\", root.tag)\n",
    "\n",
    "for e in tree.findall(\"gpx\"):\n",
    "    print(\"-\", e.tag, e.find(\"name\").text)\n"
   ]
  }
 ],
 "metadata": {
  "kernelspec": {
   "display_name": "timeseries",
   "language": "python",
   "name": "python3"
  },
  "language_info": {
   "codemirror_mode": {
    "name": "ipython",
    "version": 3
   },
   "file_extension": ".py",
   "mimetype": "text/x-python",
   "name": "python",
   "nbconvert_exporter": "python",
   "pygments_lexer": "ipython3",
   "version": "3.11.5"
  }
 },
 "nbformat": 4,
 "nbformat_minor": 2
}
